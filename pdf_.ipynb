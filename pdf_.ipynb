{
 "cells": [
  {
   "cell_type": "code",
   "execution_count": 18,
   "id": "dd2ca86a-aa50-4685-a22b-2bfec78a1dc2",
   "metadata": {
    "tags": []
   },
   "outputs": [],
   "source": [
    "#インポート(ないならpip installでインストール)\n",
    "import fitz          #PDF読み込むライブラリ(pip install PyMuPDF)\n",
    "import pandas as pd  #表を生成するライブラリ(pip install pandas)\n",
    "import numpy as np   #配列を便利に使えるようになるライブラリ(pip install numpy)\n",
    "import matplotlib.pyplot as plt\n",
    "import plotly.graph_objects as go"
   ]
  },
  {
   "cell_type": "code",
   "execution_count": 8,
   "id": "c0e932c0-100f-4c34-903e-d080fe40b11f",
   "metadata": {},
   "outputs": [],
   "source": [
    "#関数の戻り値を入れる用のデータフレーム\n",
    "df = pd.DataFrame()"
   ]
  },
  {
   "cell_type": "code",
   "execution_count": 9,
   "id": "7463acbd-0b7c-4e44-a199-2ee555f2f3ba",
   "metadata": {
    "tags": []
   },
   "outputs": [],
   "source": [
    "#全角数字を半角数字にする用のテーブル\n",
    "zenkaku_table = str.maketrans({\n",
    "    '１': '1',\n",
    "    '２': '2',\n",
    "    '３': '3',\n",
    "    '４': '4',\n",
    "    '５': '5',\n",
    "    '６': '6',\n",
    "    '７': '7',\n",
    "    '８': '8',\n",
    "    '９': '9',\n",
    "    '０': '0',\n",
    "})"
   ]
  },
  {
   "cell_type": "code",
   "execution_count": 10,
   "id": "744a22c7-db19-4d42-95ea-9fcce77e97dd",
   "metadata": {},
   "outputs": [],
   "source": [
    "#売上高を抽出する関数\n",
    "def function(PDF_name):\n",
    "    doc = fitz.open(PDF_name) \n",
    "    \n",
    "    #売上高があるページの取得\n",
    "    array = np.array(doc.get_toc()) \n",
    "    page_sales = array[np.any((array == \"１主要な経営指標等の推移\") | (array == \"1主要な経営指標等の推移\"), axis = 1), :]\n",
    "    page_int = int(page_sales[0,2])\n",
    "    page = doc[page_int - 1]\n",
    "    \n",
    "    #２ページ目にある売上高を含めた表の抽出\n",
    "    tables = page.find_tables()\n",
    "    \n",
    "    #抽出した表から売上高を抽出する\n",
    "    table_data = np.array(tables[0].extract())\n",
    "    columns = table_data[0]\n",
    "    a = table_data[np.any(table_data == \"決算年月\", axis = 1),:]\n",
    "    b = np.ravel(a)\n",
    "    \n",
    "    for i in range(b.size):  #全角を半角にする\n",
    "        word = b[i]\n",
    "        hankaku = word.translate(zenkaku_table)\n",
    "        b[i] = hankaku\n",
    "    \n",
    "    data_rows = table_data[1:]\n",
    "    df = pd.DataFrame(data_rows, columns = b)\n",
    "    sales = df[df['決算年月'].str.contains('売上' , na = False)] \n",
    "    \n",
    "    return sales"
   ]
  },
  {
   "cell_type": "code",
   "execution_count": 11,
   "id": "858cb5f5-5f49-407f-9bf1-5d9e0867c43f",
   "metadata": {
    "tags": []
   },
   "outputs": [
    {
     "name": "stderr",
     "output_type": "stream",
     "text": [
      "/tmp/ipykernel_106/1619658220.py:2: FutureWarning: The frame.append method is deprecated and will be removed from pandas in a future version. Use pandas.concat instead.\n",
      "  df = df.append(sales, ignore_index = True)\n",
      "/tmp/ipykernel_106/1619658220.py:4: FutureWarning: The frame.append method is deprecated and will be removed from pandas in a future version. Use pandas.concat instead.\n",
      "  df = df.append(sales, ignore_index = True)\n"
     ]
    }
   ],
   "source": [
    "sales = function(\"NTT.pdf\")\n",
    "df = df.append(sales, ignore_index = True)\n",
    "sales = function(\"NINTENDO.pdf\")\n",
    "df = df.append(sales, ignore_index = True)"
   ]
  },
  {
   "cell_type": "code",
   "execution_count": 12,
   "id": "bdf9bc95-c30f-45db-8dcf-178803ab2c82",
   "metadata": {
    "tags": []
   },
   "outputs": [
    {
     "name": "stderr",
     "output_type": "stream",
     "text": [
      "/tmp/ipykernel_106/1569057472.py:2: FutureWarning: The frame.append method is deprecated and will be removed from pandas in a future version. Use pandas.concat instead.\n",
      "  df = df.append(sales, ignore_index = True)\n"
     ]
    }
   ],
   "source": [
    "sales = function(\"LINE.pdf\")\n",
    "df = df.append(sales, ignore_index = True)"
   ]
  },
  {
   "cell_type": "code",
   "execution_count": 13,
   "id": "bc7f773e-af14-497a-b599-7fc9e4fc6a6c",
   "metadata": {
    "tags": []
   },
   "outputs": [
    {
     "name": "stderr",
     "output_type": "stream",
     "text": [
      "/tmp/ipykernel_106/3893621630.py:2: FutureWarning: The frame.append method is deprecated and will be removed from pandas in a future version. Use pandas.concat instead.\n",
      "  df = df.append(sales, ignore_index = True)\n"
     ]
    }
   ],
   "source": [
    "sales = function(\"KDDI.pdf\")\n",
    "df = df.append(sales, ignore_index = True)"
   ]
  },
  {
   "cell_type": "code",
   "execution_count": 14,
   "id": "712c88ce-af7a-4587-88a1-27f054e50473",
   "metadata": {
    "tags": []
   },
   "outputs": [
    {
     "name": "stderr",
     "output_type": "stream",
     "text": [
      "/tmp/ipykernel_106/83481798.py:2: FutureWarning: The frame.append method is deprecated and will be removed from pandas in a future version. Use pandas.concat instead.\n",
      "  df = df.append(sales, ignore_index = True)\n"
     ]
    }
   ],
   "source": [
    "sales = function(\"softbank.pdf\")\n",
    "df = df.append(sales, ignore_index = True)"
   ]
  },
  {
   "cell_type": "code",
   "execution_count": 15,
   "id": "6ad560a8-e8b3-4e62-bb35-b1f1464f2836",
   "metadata": {
    "tags": []
   },
   "outputs": [
    {
     "name": "stderr",
     "output_type": "stream",
     "text": [
      "/tmp/ipykernel_106/900265593.py:2: FutureWarning: The frame.append method is deprecated and will be removed from pandas in a future version. Use pandas.concat instead.\n",
      "  df = df.append(sales, ignore_index = True)\n"
     ]
    },
    {
     "data": {
      "text/html": [
       "<div>\n",
       "<style scoped>\n",
       "    .dataframe tbody tr th:only-of-type {\n",
       "        vertical-align: middle;\n",
       "    }\n",
       "\n",
       "    .dataframe tbody tr th {\n",
       "        vertical-align: top;\n",
       "    }\n",
       "\n",
       "    .dataframe thead th {\n",
       "        text-align: right;\n",
       "    }\n",
       "</style>\n",
       "<table border=\"1\" class=\"dataframe\">\n",
       "  <thead>\n",
       "    <tr style=\"text-align: right;\">\n",
       "      <th></th>\n",
       "      <th>決算年月</th>\n",
       "      <th>2019年3月</th>\n",
       "      <th>2020年3月</th>\n",
       "      <th>2021年3月</th>\n",
       "      <th>2022年3月</th>\n",
       "      <th>2023年3月</th>\n",
       "      <th>2017年3月</th>\n",
       "      <th>2018年3月</th>\n",
       "    </tr>\n",
       "  </thead>\n",
       "  <tbody>\n",
       "    <tr>\n",
       "      <th>0</th>\n",
       "      <td>売上高 （百万円）</td>\n",
       "      <td>2, 163, 625</td>\n",
       "      <td>2, 266, 808</td>\n",
       "      <td>2, 318, 658</td>\n",
       "      <td>2, 551, 906</td>\n",
       "      <td>3, 490, 182</td>\n",
       "      <td>NaN</td>\n",
       "      <td>NaN</td>\n",
       "    </tr>\n",
       "    <tr>\n",
       "      <th>1</th>\n",
       "      <td>売上高 ( 百万円)</td>\n",
       "      <td>1, 200, 560</td>\n",
       "      <td>1, 308, 519</td>\n",
       "      <td>1, 758, 910</td>\n",
       "      <td>1, 695, 344</td>\n",
       "      <td>1, 601, 677</td>\n",
       "      <td>NaN</td>\n",
       "      <td>NaN</td>\n",
       "    </tr>\n",
       "    <tr>\n",
       "      <th>2</th>\n",
       "      <td>売上収益 ( 百万円)</td>\n",
       "      <td>954, 714</td>\n",
       "      <td>1, 052, 943</td>\n",
       "      <td>1, 205, 846</td>\n",
       "      <td>1, 567, 421</td>\n",
       "      <td>1, 672, 377</td>\n",
       "      <td>NaN</td>\n",
       "      <td>NaN</td>\n",
       "    </tr>\n",
       "    <tr>\n",
       "      <th>3</th>\n",
       "      <td>売上高 ( 百万円)</td>\n",
       "      <td>5, 080, 353</td>\n",
       "      <td>5, 237, 221</td>\n",
       "      <td>5, 312, 599</td>\n",
       "      <td>5, 446, 708</td>\n",
       "      <td>5, 671, 762</td>\n",
       "      <td>NaN</td>\n",
       "      <td>NaN</td>\n",
       "    </tr>\n",
       "    <tr>\n",
       "      <th>4</th>\n",
       "      <td>売上高 ( 百万円)</td>\n",
       "      <td>4, 656, 815</td>\n",
       "      <td>4, 861, 247</td>\n",
       "      <td>5, 205, 537</td>\n",
       "      <td>5, 690, 606</td>\n",
       "      <td>5, 911, 999</td>\n",
       "      <td>NaN</td>\n",
       "      <td>NaN</td>\n",
       "    </tr>\n",
       "    <tr>\n",
       "      <th>5</th>\n",
       "      <td>売上高 ( 百万円)</td>\n",
       "      <td>331, 648</td>\n",
       "      <td>366, 594</td>\n",
       "      <td>277, 748</td>\n",
       "      <td>NaN</td>\n",
       "      <td>NaN</td>\n",
       "      <td>366, 939</td>\n",
       "      <td>323, 664</td>\n",
       "    </tr>\n",
       "  </tbody>\n",
       "</table>\n",
       "</div>"
      ],
      "text/plain": [
       "          決算年月      2019年3月      2020年3月      2021年3月      2022年3月  \\\n",
       "0    売上高 （百万円）  2, 163, 625  2, 266, 808  2, 318, 658  2, 551, 906   \n",
       "1   売上高 ( 百万円)  1, 200, 560  1, 308, 519  1, 758, 910  1, 695, 344   \n",
       "2  売上収益 ( 百万円)     954, 714  1, 052, 943  1, 205, 846  1, 567, 421   \n",
       "3   売上高 ( 百万円)  5, 080, 353  5, 237, 221  5, 312, 599  5, 446, 708   \n",
       "4   売上高 ( 百万円)  4, 656, 815  4, 861, 247  5, 205, 537  5, 690, 606   \n",
       "5   売上高 ( 百万円)     331, 648     366, 594     277, 748          NaN   \n",
       "\n",
       "       2023年3月   2017年3月   2018年3月  \n",
       "0  3, 490, 182       NaN       NaN  \n",
       "1  1, 601, 677       NaN       NaN  \n",
       "2  1, 672, 377       NaN       NaN  \n",
       "3  5, 671, 762       NaN       NaN  \n",
       "4  5, 911, 999       NaN       NaN  \n",
       "5          NaN  366, 939  323, 664  "
      ]
     },
     "execution_count": 15,
     "metadata": {},
     "output_type": "execute_result"
    }
   ],
   "source": [
    "sales = function(\"SEGA.pdf\")\n",
    "df = df.append(sales, ignore_index = True)\n",
    "df"
   ]
  },
  {
   "cell_type": "code",
   "execution_count": 19,
   "id": "24fd1370-1906-4f77-890d-c9c686cfe305",
   "metadata": {
    "tags": []
   },
   "outputs": [
    {
     "data": {
      "image/png": "[encoded data removed]",
      "text/plain": [
       "<Figure size 640x480 with 1 Axes>"
      ]
     },
     "metadata": {},
     "output_type": "display_data"
    }
   ],
   "source": [
    "fig, ax = plt.subplots()"
   ]
  },
  {
   "cell_type": "code",
   "execution_count": 21,
   "id": "3c9c3900-9241-46b2-86a9-faf15e0f4212",
   "metadata": {
    "tags": []
   },
   "outputs": [
    {
     "name": "stdout",
     "output_type": "stream",
     "text": [
      "          決算年月      2019年3月      2020年3月      2021年3月      2022年3月  \\\n",
      "0    売上高 （百万円）  2, 163, 625  2, 266, 808  2, 318, 658  2, 551, 906   \n",
      "1   売上高 ( 百万円)  1, 200, 560  1, 308, 519  1, 758, 910  1, 695, 344   \n",
      "2  売上収益 ( 百万円)     954, 714  1, 052, 943  1, 205, 846  1, 567, 421   \n",
      "3   売上高 ( 百万円)  5, 080, 353  5, 237, 221  5, 312, 599  5, 446, 708   \n",
      "4   売上高 ( 百万円)  4, 656, 815  4, 861, 247  5, 205, 537  5, 690, 606   \n",
      "5   売上高 ( 百万円)     331, 648     366, 594     277, 748          NaN   \n",
      "\n",
      "       2023年3月   2017年3月   2018年3月  \n",
      "0  3, 490, 182       NaN       NaN  \n",
      "1  1, 601, 677       NaN       NaN  \n",
      "2  1, 672, 377       NaN       NaN  \n",
      "3  5, 671, 762       NaN       NaN  \n",
      "4  5, 911, 999       NaN       NaN  \n",
      "5          NaN  366, 939  323, 664  \n"
     ]
    }
   ],
   "source": [
    "print(df)"
   ]
  },
  {
   "cell_type": "code",
   "execution_count": 36,
   "id": "158c235c-e9b4-4be0-9d4f-30c5ba0c862d",
   "metadata": {
    "tags": []
   },
   "outputs": [],
   "source": [
    "xa = df.to_numpy()"
   ]
  },
  {
   "cell_type": "code",
   "execution_count": 37,
   "id": "3e61c657-57dc-40c4-b615-d1e1cb93a403",
   "metadata": {
    "tags": []
   },
   "outputs": [
    {
     "data": {
      "text/plain": [
       "array([['売上高 （百万円）', '2, 163, 625', '2, 266, 808', '2, 318, 658',\n",
       "        '2, 551, 906', '3, 490, 182', nan, nan],\n",
       "       ['売上高 ( 百万円)', '1, 200, 560', '1, 308, 519', '1, 758, 910',\n",
       "        '1, 695, 344', '1, 601, 677', nan, nan],\n",
       "       ['売上収益 ( 百万円)', '954, 714', '1, 052, 943', '1, 205, 846',\n",
       "        '1, 567, 421', '1, 672, 377', nan, nan],\n",
       "       ['売上高 ( 百万円)', '5, 080, 353', '5, 237, 221', '5, 312, 599',\n",
       "        '5, 446, 708', '5, 671, 762', nan, nan],\n",
       "       ['売上高 ( 百万円)', '4, 656, 815', '4, 861, 247', '5, 205, 537',\n",
       "        '5, 690, 606', '5, 911, 999', nan, nan],\n",
       "       ['売上高 ( 百万円)', '331, 648', '366, 594', '277, 748', nan, nan,\n",
       "        '366, 939', '323, 664']], dtype=object)"
      ]
     },
     "execution_count": 37,
     "metadata": {},
     "output_type": "execute_result"
    }
   ],
   "source": [
    "xa"
   ]
  },
  {
   "cell_type": "code",
   "execution_count": null,
   "id": "b28aef6e-eb98-4136-a418-6474d5857372",
   "metadata": {},
   "outputs": [],
   "source": []
  }
 ],
 "metadata": {
  "kernelspec": {
   "display_name": "Python 3 (ipykernel)",
   "language": "python",
   "name": "python3"
  },
  "language_info": {
   "codemirror_mode": {
    "name": "ipython",
    "version": 3
   },
   "file_extension": ".py",
   "mimetype": "text/x-python",
   "name": "python",
   "nbconvert_exporter": "python",
   "pygments_lexer": "ipython3",
   "version": "3.11.5"
  }
 },
 "nbformat": 4,
 "nbformat_minor": 5
}
