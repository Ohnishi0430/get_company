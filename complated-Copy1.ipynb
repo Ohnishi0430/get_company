{
 "cells": [
  {
   "cell_type": "code",
   "execution_count": 1,
   "id": "2a3f5a86-f726-4468-ae66-47b1edf1c4ea",
   "metadata": {
    "tags": []
   },
   "outputs": [],
   "source": [
    "#インポート(ないならpip installでインストール)\n",
    "import fitz          #PDF読み込むライブラリ(pip install PyMuPDF)\n",
    "import pandas as pd  #表を生成するライブラリ(pip install pandas)\n",
    "import numpy as np   #配列を便利に使えるようになるライブラリ(pip install numpy)\n",
    "import os            #ファイルとディレクトリ操作するようのライブラリ\n",
    "import glob\n",
    "from pathlib import Path\n",
    "import re\n",
    "import datetime\n",
    "import sys"
   ]
  },
  {
   "cell_type": "code",
   "execution_count": 3,
   "id": "a9a52a7a-c540-40ad-ada7-40ed66d6dae4",
   "metadata": {
    "tags": []
   },
   "outputs": [],
   "source": [
    "#全角数字を半角数字にする用のテーブル\n",
    "zenkaku_table = str.maketrans({\n",
    "    '１': '1',\n",
    "    '２': '2',\n",
    "    '３': '3',\n",
    "    '４': '4',\n",
    "    '５': '5',\n",
    "    '６': '6',\n",
    "    '７': '7',\n",
    "    '８': '8',\n",
    "    '９': '9',\n",
    "    '０': '0',\n",
    "})"
   ]
  },
  {
   "cell_type": "code",
   "execution_count": 7,
   "id": "392f040f-cf59-44d9-ae3b-2ea4de611f0e",
   "metadata": {
    "tags": []
   },
   "outputs": [],
   "source": [
    "#ファイルのパスを取得\n",
    "def make_file_path_list(dir):\n",
    "    file_path_list = glob.glob(f'./{dir}/*')\n",
    "    file_path_list.sort()\n",
    "    \n",
    "    return file_path_list"
   ]
  },
  {
   "cell_type": "code",
   "execution_count": null,
   "id": "40d65368-b27b-41e9-b69c-542c1ed3d86b",
   "metadata": {},
   "outputs": [],
   "source": [
    "def get_pdf_name:"
   ]
  },
  {
   "cell_type": "code",
   "execution_count": 9,
   "id": "d8bccda7-3e3d-43dc-b9ac-13d3ddf787d3",
   "metadata": {},
   "outputs": [],
   "source": [
    "def get_sale(PDF_name):\n",
    "    try:\n",
    "        doc = fitz.open(PDF_name)\n",
    "        \n",
    "        #売上高があるページの取得\n",
    "        array = np.array(doc.get_toc())\n",
    "        page_sales = array[np.any((array == \"１主要な経営指標等の推移\") | (array == \"1主要な経営指標等の推移\"), axis=1), :]\n",
    "        page_int = int(page_sales[0, 2])\n",
    "        page = doc[page_int - 1]\n",
    "        \n",
    "        #社名の取得\n",
    "        text = doc.get_page_text(0)\n",
    "        lines = text.splitlines()\n",
    "        next_lines = []\n",
    "        target_string = \"会社名\"\n",
    "        for i in range(len(lines) - 1):\n",
    "            if target_string in lines[i]:\n",
    "                next_lines.append(lines[i + 1].strip())\n",
    "                company_name = next_lines[0]\n",
    "        \n",
    "        #2ページ目にある売上高を含めた表の抽出\n",
    "        tables = page.find_tables()\n",
    "        \n",
    "        #抽出した表から売上高を抽出する\n",
    "        table_data = np.array(tables[0].extract())\n",
    "        columns = table_data[0]\n",
    "        a = table_data[np.any(table_data == \"決算年月\", axis=1), :]\n",
    "        b = np.ravel(a)\n",
    "        \n",
    "        #全角を半角にする\n",
    "        for i in range(b.size):\n",
    "            word = b[i]\n",
    "            b[i] = b[i].translate(zenkaku_table)\n",
    "            numbers = re.findall(r'\\d+', b[i])\n",
    "            \n",
    "            #和暦西暦変換\n",
    "            characters = \"昭平令\"\n",
    "            pattern = f\"[{re.escape(characters)}]\"\n",
    "            matches = re.findall(pattern, b[i])\n",
    "            \n",
    "            #規格をそろえる\n",
    "            if len(numbers) != 0:\n",
    "                year = numbers[0]\n",
    "                date = numbers[1]\n",
    "                if len(matches) != 0:\n",
    "                    if matches[0] == \"令\":\n",
    "                        year = to_seireki('令', year)\n",
    "                    elif matches[0] == \"平\":\n",
    "                        year = to_seireki('平', year)\n",
    "                    elif matches[0] == \"昭\":\n",
    "                        year = to_seireki('昭', year)\n",
    "                    else:\n",
    "                        print(\"違う\")\n",
    "                b[i] = year + \" - \" + date\n",
    "        \n",
    "        data_rows = table_data[1:]\n",
    "        \n",
    "        #データの形状と列名の整合性を確認\n",
    "        if len(data_rows) > 0 and len(data_rows[0]) != len(b):\n",
    "            raise ValueError(\"データの列数が一致しない\")\n",
    "        \n",
    "        df = pd.DataFrame(data_rows, columns=b)\n",
    "        sales = df[df['決算年月'].str.contains('売上', na=False)]\n",
    "        if not sales.empty:\n",
    "            sales.iat[0, 0] = company_name\n",
    "        else:\n",
    "            print(f\"{company_name}: 売上データ。\")\n",
    "        \n",
    "        return sales\n",
    "    except Exception as e:\n",
    "        print(f\"{PDF_name} の処理中にエラー発生: {e}\")\n",
    "        return pd.DataFrame()  # 空のDataFrameを返す"
   ]
  },
  {
   "cell_type": "code",
   "execution_count": 5,
   "id": "0dffa3f3-bb19-4d1d-b006-c4438e5d82ff",
   "metadata": {
    "tags": []
   },
   "outputs": [],
   "source": [
    "#売上高だけのデータフレームを作成する関数\n",
    "def make_dataframe(sales):\n",
    "    a = pd.DataFrame()\n",
    "    df = a.append(sales, ignore_index = True)\n",
    "    return df"
   ]
  },
  {
   "cell_type": "code",
   "execution_count": 6,
   "id": "452f3ada-3c21-4fc7-ac32-2f51ec8b1466",
   "metadata": {},
   "outputs": [],
   "source": [
    "def to_seireki(era, year):\n",
    "    ERA_DICT = {'令': datetime.datetime(2019, 5, 1),'平': datetime.datetime(1989, 1, 8),'昭': datetime.datetime(1926, 12, 25)}\n",
    "    era_start = ERA_DICT[era]\n",
    "    year_1 = int(year)\n",
    "    jp_year = era_start.year + year_1 - 1\n",
    "    return str(jp_year)"
   ]
  },
  {
   "cell_type": "code",
   "execution_count": 13,
   "id": "07863077-278f-45b8-bf55-c827b7c48190",
   "metadata": {
    "tags": []
   },
   "outputs": [],
   "source": [
    "def main(dir):\n",
    "    df = pd.DataFrame()\n",
    "    file_path_list = make_file_path_list(dir)\n",
    "    #for i in range(58,59):\n",
    "    for i in range(1,len(file_path_list)):\n",
    "        pdf_name = file_path_list[i]\n",
    "        sales = get_sale(pdf_name)\n",
    "        df = pd.concat([df,sales])\n",
    "    return df"
   ]
  },
  {
   "cell_type": "code",
   "execution_count": 12,
   "id": "26e1bad6-5763-4e17-82cd-3b49acfbcdad",
   "metadata": {
    "tags": []
   },
   "outputs": [
    {
     "name": "stdout",
     "output_type": "stream",
     "text": [
      "<class 'numpy.ndarray'>\n"
     ]
    },
    {
     "ename": "UnboundLocalError",
     "evalue": "cannot access local variable 'data_rows' where it is not associated with a value",
     "output_type": "error",
     "traceback": [
      "\u001b[0;31m---------------------------------------------------------------------------\u001b[0m",
      "\u001b[0;31mUnboundLocalError\u001b[0m                         Traceback (most recent call last)",
      "Cell \u001b[0;32mIn[12], line 1\u001b[0m\n\u001b[0;32m----> 1\u001b[0m df \u001b[38;5;241m=\u001b[39m complate(\u001b[38;5;124m'\u001b[39m\u001b[38;5;124myuho_report\u001b[39m\u001b[38;5;124m'\u001b[39m)\n",
      "Cell \u001b[0;32mIn[8], line 7\u001b[0m, in \u001b[0;36mcomplate\u001b[0;34m(dir)\u001b[0m\n\u001b[1;32m      5\u001b[0m \u001b[38;5;28;01mfor\u001b[39;00m i \u001b[38;5;129;01min\u001b[39;00m \u001b[38;5;28mrange\u001b[39m(\u001b[38;5;241m1\u001b[39m,\u001b[38;5;28mlen\u001b[39m(file_path_list)):\n\u001b[1;32m      6\u001b[0m     pdf_name \u001b[38;5;241m=\u001b[39m file_path_list[i]\n\u001b[0;32m----> 7\u001b[0m     sales \u001b[38;5;241m=\u001b[39m get_sale(pdf_name)\n\u001b[1;32m      8\u001b[0m     df \u001b[38;5;241m=\u001b[39m pd\u001b[38;5;241m.\u001b[39mconcat([df,sales])\n\u001b[1;32m      9\u001b[0m \u001b[38;5;28;01mreturn\u001b[39;00m df\n",
      "Cell \u001b[0;32mIn[11], line 31\u001b[0m, in \u001b[0;36mget_sale\u001b[0;34m(PDF_name)\u001b[0m\n\u001b[1;32m     28\u001b[0m b \u001b[38;5;241m=\u001b[39m np\u001b[38;5;241m.\u001b[39mravel(a)\n\u001b[1;32m     29\u001b[0m \u001b[38;5;28mprint\u001b[39m(\u001b[38;5;28mtype\u001b[39m(b))\n\u001b[0;32m---> 31\u001b[0m \u001b[38;5;28;01mif\u001b[39;00m \u001b[38;5;28mlen\u001b[39m(data_rows) \u001b[38;5;241m>\u001b[39m \u001b[38;5;241m0\u001b[39m \u001b[38;5;129;01mand\u001b[39;00m \u001b[38;5;28mlen\u001b[39m(data_rows[\u001b[38;5;241m0\u001b[39m]) \u001b[38;5;241m!=\u001b[39m \u001b[38;5;28mlen\u001b[39m(b):\n\u001b[1;32m     32\u001b[0m     \u001b[38;5;28;01mraise\u001b[39;00m \u001b[38;5;167;01mValueError\u001b[39;00m(\u001b[38;5;124m\"\u001b[39m\u001b[38;5;124mばーか\u001b[39m\u001b[38;5;124m\"\u001b[39m)\n\u001b[1;32m     35\u001b[0m \u001b[38;5;66;03m#全角を半角にする\u001b[39;00m\n",
      "\u001b[0;31mUnboundLocalError\u001b[0m: cannot access local variable 'data_rows' where it is not associated with a value"
     ]
    }
   ],
   "source": [
    "df = main('yuho_report')"
   ]
  },
  {
   "cell_type": "code",
   "execution_count": 1,
   "id": "73ae805b-2ed8-417f-95e6-63ce3f92aea1",
   "metadata": {},
   "outputs": [
    {
     "ename": "NameError",
     "evalue": "name 'make_file_path_list' is not defined",
     "output_type": "error",
     "traceback": [
      "\u001b[0;31m---------------------------------------------------------------------------\u001b[0m",
      "\u001b[0;31mNameError\u001b[0m                                 Traceback (most recent call last)",
      "Cell \u001b[0;32mIn[1], line 1\u001b[0m\n\u001b[0;32m----> 1\u001b[0m file_path_list \u001b[38;5;241m=\u001b[39m make_file_path_list(\u001b[38;5;124m'\u001b[39m\u001b[38;5;124myuho_report\u001b[39m\u001b[38;5;124m'\u001b[39m)\n",
      "\u001b[0;31mNameError\u001b[0m: name 'make_file_path_list' is not defined"
     ]
    }
   ],
   "source": [
    "file_path_list = make_file_path_list('yuho_report')"
   ]
  },
  {
   "cell_type": "code",
   "execution_count": null,
   "id": "94022372-bf86-4752-9d78-8eefc9760921",
   "metadata": {},
   "outputs": [],
   "source": []
  }
 ],
 "metadata": {
  "kernelspec": {
   "display_name": "Python 3 (ipykernel)",
   "language": "python",
   "name": "python3"
  },
  "language_info": {
   "codemirror_mode": {
    "name": "ipython",
    "version": 3
   },
   "file_extension": ".py",
   "mimetype": "text/x-python",
   "name": "python",
   "nbconvert_exporter": "python",
   "pygments_lexer": "ipython3",
   "version": "3.11.5"
  }
 },
 "nbformat": 4,
 "nbformat_minor": 5
}
