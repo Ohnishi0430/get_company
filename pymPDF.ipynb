{
 "cells": [
  {
   "cell_type": "code",
   "execution_count": 44,
   "id": "f7869da6-77bb-427b-97c1-a374e2720901",
   "metadata": {
    "tags": []
   },
   "outputs": [],
   "source": [
    "#インポート(ないならpip installでインストール)\n",
    "import fitz          #PDF読み込むライブラリ(pip install PyMuPDF)\n",
    "import pandas as pd  #表を生成するライブラリ(pip install pandas)\n",
    "import numpy as np   #配列を便利に使えるようになるライブラリ(pip install numpy)"
   ]
  },
  {
   "cell_type": "code",
   "execution_count": 67,
   "id": "3c1d8836-cf86-481b-9670-c3aff9eabaae",
   "metadata": {
    "tags": []
   },
   "outputs": [],
   "source": [
    "PDF_name = \"NTTdate.pdf\"\n",
    "doc = fitz.open(PDF_name)"
   ]
  },
  {
   "cell_type": "code",
   "execution_count": 68,
   "id": "24029bae-f8a7-4cb0-983d-735a7167d1bd",
   "metadata": {
    "tags": []
   },
   "outputs": [],
   "source": [
    "array = np.array(doc.get_toc())\n",
    "page_sales = array[np.any((array == \"第１企業の概況\") | (array == \"第1企業の概況\"), axis = 1), :]\n",
    "page_int = int(page_sales[0,2])\n",
    "page = doc[page_int - 1]"
   ]
  },
  {
   "cell_type": "code",
   "execution_count": 47,
   "id": "68df705b-793c-4a94-8b99-1df7512ceaaa",
   "metadata": {
    "tags": []
   },
   "outputs": [],
   "source": [
    "tables = page.find_tables()"
   ]
  },
  {
   "cell_type": "code",
   "execution_count": 28,
   "id": "e3ba50c3-6726-41ef-8832-971041ef62dc",
   "metadata": {
    "tags": []
   },
   "outputs": [],
   "source": [
    "table_data = np.array(tables[0].extract())"
   ]
  },
  {
   "cell_type": "code",
   "execution_count": 30,
   "id": "7e0a9843-e5d4-44f4-9c1e-136b7495ab7d",
   "metadata": {
    "tags": []
   },
   "outputs": [],
   "source": [
    "#table_data"
   ]
  },
  {
   "cell_type": "code",
   "execution_count": 33,
   "id": "62a27143-d04e-433c-ad7e-6d9bbfa52328",
   "metadata": {
    "tags": []
   },
   "outputs": [],
   "source": [
    "a = table_data[np.any(table_data == \"売上高\", axis = 1), :]"
   ]
  },
  {
   "cell_type": "code",
   "execution_count": 40,
   "id": "562f42e0-1ea2-481e-a17e-4c754fcb8053",
   "metadata": {
    "tags": []
   },
   "outputs": [],
   "source": [
    "b = df[df['回次'].str.contains('売上高')]"
   ]
  },
  {
   "cell_type": "code",
   "execution_count": 41,
   "id": "3db24b66-7503-49b2-9e4d-5b62c0eece4e",
   "metadata": {
    "tags": []
   },
   "outputs": [
    {
     "data": {
      "text/html": [
       "<div>\n",
       "<style scoped>\n",
       "    .dataframe tbody tr th:only-of-type {\n",
       "        vertical-align: middle;\n",
       "    }\n",
       "\n",
       "    .dataframe tbody tr th {\n",
       "        vertical-align: top;\n",
       "    }\n",
       "\n",
       "    .dataframe thead th {\n",
       "        text-align: right;\n",
       "    }\n",
       "</style>\n",
       "<table border=\"1\" class=\"dataframe\">\n",
       "  <thead>\n",
       "    <tr style=\"text-align: right;\">\n",
       "      <th></th>\n",
       "      <th>回次</th>\n",
       "      <th>第79期</th>\n",
       "      <th>第80期</th>\n",
       "      <th>第81期</th>\n",
       "      <th>第82期</th>\n",
       "      <th>第83期</th>\n",
       "    </tr>\n",
       "  </thead>\n",
       "  <tbody>\n",
       "    <tr>\n",
       "      <th>1</th>\n",
       "      <td>売上高 ( 百万円)</td>\n",
       "      <td>1, 200, 560</td>\n",
       "      <td>1, 308, 519</td>\n",
       "      <td>1, 758, 910</td>\n",
       "      <td>1, 695, 344</td>\n",
       "      <td>1, 601, 677</td>\n",
       "    </tr>\n",
       "  </tbody>\n",
       "</table>\n",
       "</div>"
      ],
      "text/plain": [
       "           回次         第79期         第80期         第81期         第82期         第83期\n",
       "1  売上高 ( 百万円)  1, 200, 560  1, 308, 519  1, 758, 910  1, 695, 344  1, 601, 677"
      ]
     },
     "execution_count": 41,
     "metadata": {},
     "output_type": "execute_result"
    }
   ],
   "source": [
    "b"
   ]
  },
  {
   "cell_type": "code",
   "execution_count": 52,
   "id": "ba46b687-8bed-4b8e-9e37-b0b3452142bd",
   "metadata": {
    "tags": []
   },
   "outputs": [],
   "source": [
    "columns = table_data[1]"
   ]
  },
  {
   "cell_type": "code",
   "execution_count": 53,
   "id": "45b7f0d8-2ee0-47dd-b1a6-2b45e9377670",
   "metadata": {
    "tags": []
   },
   "outputs": [],
   "source": [
    "data_rows = table_data[1:]"
   ]
  },
  {
   "cell_type": "code",
   "execution_count": 54,
   "id": "3104cbb3-84da-4a0c-a9cc-38b9bf47c84c",
   "metadata": {
    "tags": []
   },
   "outputs": [],
   "source": [
    "df = pd.DataFrame(data_rows, columns = columns)"
   ]
  },
  {
   "cell_type": "code",
   "execution_count": null,
   "id": "9ec04f23-7a05-441e-9bec-3afdeb2b035c",
   "metadata": {},
   "outputs": [],
   "source": []
  }
 ],
 "metadata": {
  "kernelspec": {
   "display_name": "Python 3 (ipykernel)",
   "language": "python",
   "name": "python3"
  },
  "language_info": {
   "codemirror_mode": {
    "name": "ipython",
    "version": 3
   },
   "file_extension": ".py",
   "mimetype": "text/x-python",
   "name": "python",
   "nbconvert_exporter": "python",
   "pygments_lexer": "ipython3",
   "version": "3.11.5"
  }
 },
 "nbformat": 4,
 "nbformat_minor": 5
}
